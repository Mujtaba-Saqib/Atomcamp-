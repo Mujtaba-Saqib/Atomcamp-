{
  "nbformat": 4,
  "nbformat_minor": 0,
  "metadata": {
    "colab": {
      "provenance": []
    },
    "kernelspec": {
      "name": "python3",
      "display_name": "Python 3"
    },
    "language_info": {
      "name": "python"
    }
  },
  "cells": [
    {
      "cell_type": "markdown",
      "source": [
        "# Python Mystery Case – Employee Investigation\n",
        "\n",
        "The HR team of our startup suspects strange activity in the employee records:  \n",
        "\n",
        "- Inactive employees are still getting salaries.  \n",
        "- Interns might be overpaid.  \n",
        "- Some departments look suspicious.  \n",
        "\n",
        "**Your mission:** Solve the mystery step by step using Python and find out if these suspicions are true or false.\n",
        "\n",
        "**Dataset:** python_activity.csv\n",
        "\n",
        "**Columns:** id, name, age, role, salary, department, status"
      ],
      "metadata": {
        "id": "e__VkbXOJ28z"
      }
    },
    {
      "cell_type": "markdown",
      "source": [
        "## Load Dataset"
      ],
      "metadata": {
        "id": "90RbfOquPuiA"
      }
    },
    {
      "cell_type": "code",
      "execution_count": null,
      "metadata": {
        "colab": {
          "base_uri": "https://localhost:8080/",
          "height": 224
        },
        "id": "6Ah9ZClIH04B",
        "outputId": "fff37b27-4c6b-4d2c-e84a-0b90917f16dd"
      },
      "outputs": [
        {
          "output_type": "stream",
          "name": "stdout",
          "text": [
            "Drive already mounted at /content/drive; to attempt to forcibly remount, call drive.mount(\"/content/drive\", force_remount=True).\n"
          ]
        },
        {
          "output_type": "execute_result",
          "data": {
            "text/plain": [
              "    id     name  age               role  salary department    status\n",
              "0  101    Seema   30            Manager   59424  Analytics    active\n",
              "1  102    Imran   22  Software Engineer   85111     Design    active\n",
              "2  103     Hina   44    Product Manager   81704         HR    active\n",
              "3  104  Mahnoor   25           Designer   66056    Finance    active\n",
              "4  105   Muneeb   22        QA Engineer   36472     Design  inactive"
            ],
            "text/html": [
              "\n",
              "  <div id=\"df-97be264e-9d0f-435a-96ae-44543728c464\" class=\"colab-df-container\">\n",
              "    <div>\n",
              "<style scoped>\n",
              "    .dataframe tbody tr th:only-of-type {\n",
              "        vertical-align: middle;\n",
              "    }\n",
              "\n",
              "    .dataframe tbody tr th {\n",
              "        vertical-align: top;\n",
              "    }\n",
              "\n",
              "    .dataframe thead th {\n",
              "        text-align: right;\n",
              "    }\n",
              "</style>\n",
              "<table border=\"1\" class=\"dataframe\">\n",
              "  <thead>\n",
              "    <tr style=\"text-align: right;\">\n",
              "      <th></th>\n",
              "      <th>id</th>\n",
              "      <th>name</th>\n",
              "      <th>age</th>\n",
              "      <th>role</th>\n",
              "      <th>salary</th>\n",
              "      <th>department</th>\n",
              "      <th>status</th>\n",
              "    </tr>\n",
              "  </thead>\n",
              "  <tbody>\n",
              "    <tr>\n",
              "      <th>0</th>\n",
              "      <td>101</td>\n",
              "      <td>Seema</td>\n",
              "      <td>30</td>\n",
              "      <td>Manager</td>\n",
              "      <td>59424</td>\n",
              "      <td>Analytics</td>\n",
              "      <td>active</td>\n",
              "    </tr>\n",
              "    <tr>\n",
              "      <th>1</th>\n",
              "      <td>102</td>\n",
              "      <td>Imran</td>\n",
              "      <td>22</td>\n",
              "      <td>Software Engineer</td>\n",
              "      <td>85111</td>\n",
              "      <td>Design</td>\n",
              "      <td>active</td>\n",
              "    </tr>\n",
              "    <tr>\n",
              "      <th>2</th>\n",
              "      <td>103</td>\n",
              "      <td>Hina</td>\n",
              "      <td>44</td>\n",
              "      <td>Product Manager</td>\n",
              "      <td>81704</td>\n",
              "      <td>HR</td>\n",
              "      <td>active</td>\n",
              "    </tr>\n",
              "    <tr>\n",
              "      <th>3</th>\n",
              "      <td>104</td>\n",
              "      <td>Mahnoor</td>\n",
              "      <td>25</td>\n",
              "      <td>Designer</td>\n",
              "      <td>66056</td>\n",
              "      <td>Finance</td>\n",
              "      <td>active</td>\n",
              "    </tr>\n",
              "    <tr>\n",
              "      <th>4</th>\n",
              "      <td>105</td>\n",
              "      <td>Muneeb</td>\n",
              "      <td>22</td>\n",
              "      <td>QA Engineer</td>\n",
              "      <td>36472</td>\n",
              "      <td>Design</td>\n",
              "      <td>inactive</td>\n",
              "    </tr>\n",
              "  </tbody>\n",
              "</table>\n",
              "</div>\n",
              "    <div class=\"colab-df-buttons\">\n",
              "\n",
              "  <div class=\"colab-df-container\">\n",
              "    <button class=\"colab-df-convert\" onclick=\"convertToInteractive('df-97be264e-9d0f-435a-96ae-44543728c464')\"\n",
              "            title=\"Convert this dataframe to an interactive table.\"\n",
              "            style=\"display:none;\">\n",
              "\n",
              "  <svg xmlns=\"http://www.w3.org/2000/svg\" height=\"24px\" viewBox=\"0 -960 960 960\">\n",
              "    <path d=\"M120-120v-720h720v720H120Zm60-500h600v-160H180v160Zm220 220h160v-160H400v160Zm0 220h160v-160H400v160ZM180-400h160v-160H180v160Zm440 0h160v-160H620v160ZM180-180h160v-160H180v160Zm440 0h160v-160H620v160Z\"/>\n",
              "  </svg>\n",
              "    </button>\n",
              "\n",
              "  <style>\n",
              "    .colab-df-container {\n",
              "      display:flex;\n",
              "      gap: 12px;\n",
              "    }\n",
              "\n",
              "    .colab-df-convert {\n",
              "      background-color: #E8F0FE;\n",
              "      border: none;\n",
              "      border-radius: 50%;\n",
              "      cursor: pointer;\n",
              "      display: none;\n",
              "      fill: #1967D2;\n",
              "      height: 32px;\n",
              "      padding: 0 0 0 0;\n",
              "      width: 32px;\n",
              "    }\n",
              "\n",
              "    .colab-df-convert:hover {\n",
              "      background-color: #E2EBFA;\n",
              "      box-shadow: 0px 1px 2px rgba(60, 64, 67, 0.3), 0px 1px 3px 1px rgba(60, 64, 67, 0.15);\n",
              "      fill: #174EA6;\n",
              "    }\n",
              "\n",
              "    .colab-df-buttons div {\n",
              "      margin-bottom: 4px;\n",
              "    }\n",
              "\n",
              "    [theme=dark] .colab-df-convert {\n",
              "      background-color: #3B4455;\n",
              "      fill: #D2E3FC;\n",
              "    }\n",
              "\n",
              "    [theme=dark] .colab-df-convert:hover {\n",
              "      background-color: #434B5C;\n",
              "      box-shadow: 0px 1px 3px 1px rgba(0, 0, 0, 0.15);\n",
              "      filter: drop-shadow(0px 1px 2px rgba(0, 0, 0, 0.3));\n",
              "      fill: #FFFFFF;\n",
              "    }\n",
              "  </style>\n",
              "\n",
              "    <script>\n",
              "      const buttonEl =\n",
              "        document.querySelector('#df-97be264e-9d0f-435a-96ae-44543728c464 button.colab-df-convert');\n",
              "      buttonEl.style.display =\n",
              "        google.colab.kernel.accessAllowed ? 'block' : 'none';\n",
              "\n",
              "      async function convertToInteractive(key) {\n",
              "        const element = document.querySelector('#df-97be264e-9d0f-435a-96ae-44543728c464');\n",
              "        const dataTable =\n",
              "          await google.colab.kernel.invokeFunction('convertToInteractive',\n",
              "                                                    [key], {});\n",
              "        if (!dataTable) return;\n",
              "\n",
              "        const docLinkHtml = 'Like what you see? Visit the ' +\n",
              "          '<a target=\"_blank\" href=https://colab.research.google.com/notebooks/data_table.ipynb>data table notebook</a>'\n",
              "          + ' to learn more about interactive tables.';\n",
              "        element.innerHTML = '';\n",
              "        dataTable['output_type'] = 'display_data';\n",
              "        await google.colab.output.renderOutput(dataTable, element);\n",
              "        const docLink = document.createElement('div');\n",
              "        docLink.innerHTML = docLinkHtml;\n",
              "        element.appendChild(docLink);\n",
              "      }\n",
              "    </script>\n",
              "  </div>\n",
              "\n",
              "\n",
              "    <div id=\"df-58ef66af-039b-49c9-b53f-d37d10288a08\">\n",
              "      <button class=\"colab-df-quickchart\" onclick=\"quickchart('df-58ef66af-039b-49c9-b53f-d37d10288a08')\"\n",
              "                title=\"Suggest charts\"\n",
              "                style=\"display:none;\">\n",
              "\n",
              "<svg xmlns=\"http://www.w3.org/2000/svg\" height=\"24px\"viewBox=\"0 0 24 24\"\n",
              "     width=\"24px\">\n",
              "    <g>\n",
              "        <path d=\"M19 3H5c-1.1 0-2 .9-2 2v14c0 1.1.9 2 2 2h14c1.1 0 2-.9 2-2V5c0-1.1-.9-2-2-2zM9 17H7v-7h2v7zm4 0h-2V7h2v10zm4 0h-2v-4h2v4z\"/>\n",
              "    </g>\n",
              "</svg>\n",
              "      </button>\n",
              "\n",
              "<style>\n",
              "  .colab-df-quickchart {\n",
              "      --bg-color: #E8F0FE;\n",
              "      --fill-color: #1967D2;\n",
              "      --hover-bg-color: #E2EBFA;\n",
              "      --hover-fill-color: #174EA6;\n",
              "      --disabled-fill-color: #AAA;\n",
              "      --disabled-bg-color: #DDD;\n",
              "  }\n",
              "\n",
              "  [theme=dark] .colab-df-quickchart {\n",
              "      --bg-color: #3B4455;\n",
              "      --fill-color: #D2E3FC;\n",
              "      --hover-bg-color: #434B5C;\n",
              "      --hover-fill-color: #FFFFFF;\n",
              "      --disabled-bg-color: #3B4455;\n",
              "      --disabled-fill-color: #666;\n",
              "  }\n",
              "\n",
              "  .colab-df-quickchart {\n",
              "    background-color: var(--bg-color);\n",
              "    border: none;\n",
              "    border-radius: 50%;\n",
              "    cursor: pointer;\n",
              "    display: none;\n",
              "    fill: var(--fill-color);\n",
              "    height: 32px;\n",
              "    padding: 0;\n",
              "    width: 32px;\n",
              "  }\n",
              "\n",
              "  .colab-df-quickchart:hover {\n",
              "    background-color: var(--hover-bg-color);\n",
              "    box-shadow: 0 1px 2px rgba(60, 64, 67, 0.3), 0 1px 3px 1px rgba(60, 64, 67, 0.15);\n",
              "    fill: var(--button-hover-fill-color);\n",
              "  }\n",
              "\n",
              "  .colab-df-quickchart-complete:disabled,\n",
              "  .colab-df-quickchart-complete:disabled:hover {\n",
              "    background-color: var(--disabled-bg-color);\n",
              "    fill: var(--disabled-fill-color);\n",
              "    box-shadow: none;\n",
              "  }\n",
              "\n",
              "  .colab-df-spinner {\n",
              "    border: 2px solid var(--fill-color);\n",
              "    border-color: transparent;\n",
              "    border-bottom-color: var(--fill-color);\n",
              "    animation:\n",
              "      spin 1s steps(1) infinite;\n",
              "  }\n",
              "\n",
              "  @keyframes spin {\n",
              "    0% {\n",
              "      border-color: transparent;\n",
              "      border-bottom-color: var(--fill-color);\n",
              "      border-left-color: var(--fill-color);\n",
              "    }\n",
              "    20% {\n",
              "      border-color: transparent;\n",
              "      border-left-color: var(--fill-color);\n",
              "      border-top-color: var(--fill-color);\n",
              "    }\n",
              "    30% {\n",
              "      border-color: transparent;\n",
              "      border-left-color: var(--fill-color);\n",
              "      border-top-color: var(--fill-color);\n",
              "      border-right-color: var(--fill-color);\n",
              "    }\n",
              "    40% {\n",
              "      border-color: transparent;\n",
              "      border-right-color: var(--fill-color);\n",
              "      border-top-color: var(--fill-color);\n",
              "    }\n",
              "    60% {\n",
              "      border-color: transparent;\n",
              "      border-right-color: var(--fill-color);\n",
              "    }\n",
              "    80% {\n",
              "      border-color: transparent;\n",
              "      border-right-color: var(--fill-color);\n",
              "      border-bottom-color: var(--fill-color);\n",
              "    }\n",
              "    90% {\n",
              "      border-color: transparent;\n",
              "      border-bottom-color: var(--fill-color);\n",
              "    }\n",
              "  }\n",
              "</style>\n",
              "\n",
              "      <script>\n",
              "        async function quickchart(key) {\n",
              "          const quickchartButtonEl =\n",
              "            document.querySelector('#' + key + ' button');\n",
              "          quickchartButtonEl.disabled = true;  // To prevent multiple clicks.\n",
              "          quickchartButtonEl.classList.add('colab-df-spinner');\n",
              "          try {\n",
              "            const charts = await google.colab.kernel.invokeFunction(\n",
              "                'suggestCharts', [key], {});\n",
              "          } catch (error) {\n",
              "            console.error('Error during call to suggestCharts:', error);\n",
              "          }\n",
              "          quickchartButtonEl.classList.remove('colab-df-spinner');\n",
              "          quickchartButtonEl.classList.add('colab-df-quickchart-complete');\n",
              "        }\n",
              "        (() => {\n",
              "          let quickchartButtonEl =\n",
              "            document.querySelector('#df-58ef66af-039b-49c9-b53f-d37d10288a08 button');\n",
              "          quickchartButtonEl.style.display =\n",
              "            google.colab.kernel.accessAllowed ? 'block' : 'none';\n",
              "        })();\n",
              "      </script>\n",
              "    </div>\n",
              "\n",
              "    </div>\n",
              "  </div>\n"
            ],
            "application/vnd.google.colaboratory.intrinsic+json": {
              "type": "dataframe",
              "variable_name": "df",
              "summary": "{\n  \"name\": \"df\",\n  \"rows\": 100,\n  \"fields\": [\n    {\n      \"column\": \"id\",\n      \"properties\": {\n        \"dtype\": \"number\",\n        \"std\": 29,\n        \"min\": 101,\n        \"max\": 200,\n        \"num_unique_values\": 100,\n        \"samples\": [\n          184,\n          154,\n          171\n        ],\n        \"semantic_type\": \"\",\n        \"description\": \"\"\n      }\n    },\n    {\n      \"column\": \"name\",\n      \"properties\": {\n        \"dtype\": \"string\",\n        \"num_unique_values\": 90,\n        \"samples\": [\n          \"Hamza\",\n          \"Javed\",\n          \"Nimra\"\n        ],\n        \"semantic_type\": \"\",\n        \"description\": \"\"\n      }\n    },\n    {\n      \"column\": \"age\",\n      \"properties\": {\n        \"dtype\": \"number\",\n        \"std\": 7,\n        \"min\": 21,\n        \"max\": 45,\n        \"num_unique_values\": 25,\n        \"samples\": [\n          26,\n          34,\n          30\n        ],\n        \"semantic_type\": \"\",\n        \"description\": \"\"\n      }\n    },\n    {\n      \"column\": \"role\",\n      \"properties\": {\n        \"dtype\": \"category\",\n        \"num_unique_values\": 9,\n        \"samples\": [\n          \"Intern\",\n          \"Software Engineer\",\n          \"Data Analyst\"\n        ],\n        \"semantic_type\": \"\",\n        \"description\": \"\"\n      }\n    },\n    {\n      \"column\": \"salary\",\n      \"properties\": {\n        \"dtype\": \"number\",\n        \"std\": 24100,\n        \"min\": 25893,\n        \"max\": 99111,\n        \"num_unique_values\": 100,\n        \"samples\": [\n          96511,\n          52109,\n          48210\n        ],\n        \"semantic_type\": \"\",\n        \"description\": \"\"\n      }\n    },\n    {\n      \"column\": \"department\",\n      \"properties\": {\n        \"dtype\": \"category\",\n        \"num_unique_values\": 5,\n        \"samples\": [\n          \"Design\",\n          \"Tech\",\n          \"HR\"\n        ],\n        \"semantic_type\": \"\",\n        \"description\": \"\"\n      }\n    },\n    {\n      \"column\": \"status\",\n      \"properties\": {\n        \"dtype\": \"category\",\n        \"num_unique_values\": 2,\n        \"samples\": [\n          \"inactive\",\n          \"active\"\n        ],\n        \"semantic_type\": \"\",\n        \"description\": \"\"\n      }\n    }\n  ]\n}"
            }
          },
          "metadata": {},
          "execution_count": 3
        }
      ],
      "source": [
        "import pandas as pd\n",
        "\n",
        "from google.colab import drive\n",
        "drive.mount('/content/drive')\n",
        "\n",
        "df = pd.read_csv('/content/drive/MyDrive/python_activity.csv')\n",
        "df.head()"
      ]
    },
    {
      "cell_type": "markdown",
      "source": [
        "## Part 1: Warm-up"
      ],
      "metadata": {
        "id": "sQSd2pYHR2pt"
      }
    },
    {
      "cell_type": "markdown",
      "source": [
        "**Question 1:** Show the names of every employee in the company."
      ],
      "metadata": {
        "id": "OsiaMO0KR5Jq"
      }
    },
    {
      "cell_type": "code",
      "source": [
        "print(df['name'])"
      ],
      "metadata": {
        "id": "1OOKRfBTR-CB",
        "colab": {
          "base_uri": "https://localhost:8080/"
        },
        "outputId": "7a61ec3c-8e47-47e0-dd47-75a31201381f"
      },
      "execution_count": null,
      "outputs": [
        {
          "output_type": "stream",
          "name": "stdout",
          "text": [
            "0        Seema\n",
            "1        Imran\n",
            "2         Hina\n",
            "3      Mahnoor\n",
            "4       Muneeb\n",
            "        ...   \n",
            "95        Nida\n",
            "96    Sarfaraz\n",
            "97       Farah\n",
            "98       Zakir\n",
            "99       Sadia\n",
            "Name: name, Length: 100, dtype: object\n"
          ]
        }
      ]
    },
    {
      "cell_type": "code",
      "source": [
        "for name in df['name']:\n",
        "  print(name)"
      ],
      "metadata": {
        "colab": {
          "base_uri": "https://localhost:8080/"
        },
        "id": "__qwuqRiE73R",
        "outputId": "b633adcc-0012-4e9e-ea3c-32ddd736c920"
      },
      "execution_count": null,
      "outputs": [
        {
          "output_type": "stream",
          "name": "stdout",
          "text": [
            "Seema\n",
            "Imran\n",
            "Hina\n",
            "Mahnoor\n",
            "Muneeb\n",
            "Kamran\n",
            "Yasir\n",
            "Rehan\n",
            "Kiran\n",
            "Farhan\n",
            "Sumbal\n",
            "Arif\n",
            "Bushra\n",
            "Noor\n",
            "Sana\n",
            "Hassan\n",
            "Omar\n",
            "Shahzad\n",
            "Amna\n",
            "Nadia\n",
            "Omar\n",
            "Rizwan\n",
            "Laiba\n",
            "Javed\n",
            "Fatima\n",
            "Amber\n",
            "Usman\n",
            "Waleed\n",
            "Eman\n",
            "Rabia\n",
            "Lubna\n",
            "Fahad\n",
            "Asad\n",
            "Noman\n",
            "Khalid\n",
            "Mahnoor\n",
            "Anam\n",
            "Iqra\n",
            "Saad\n",
            "Shazia\n",
            "Danish\n",
            "Sadia\n",
            "Hamza\n",
            "Kiran\n",
            "Mariam\n",
            "Shazia\n",
            "Noor\n",
            "Ali\n",
            "Sumbal\n",
            "Tariq\n",
            "Adeel\n",
            "Shireen\n",
            "Haris\n",
            "Sadia\n",
            "Raza\n",
            "Mehak\n",
            "Zahid\n",
            "Sahil\n",
            "Kinza\n",
            "Talha\n",
            "Sara\n",
            "Arsalan\n",
            "Nimra\n",
            "Zeeshan\n",
            "Fiza\n",
            "Jibran\n",
            "Nashit\n",
            "Hiba\n",
            "Murtaza\n",
            "Asiya\n",
            "Imtiaz\n",
            "Shabana\n",
            "Adil\n",
            "Sameer\n",
            "Tehmina\n",
            "Faizan\n",
            "Saher\n",
            "Bilquis\n",
            "Zunair\n",
            "Areesha\n",
            "Raheel\n",
            "Huma\n",
            "Affan\n",
            "Mishal\n",
            "Tariq\n",
            "Haleema\n",
            "Farrukh\n",
            "Shamim\n",
            "Zoya\n",
            "Irfan\n",
            "Jaweria\n",
            "Saif\n",
            "Parveen\n",
            "Tanveer\n",
            "Haris\n",
            "Nida\n",
            "Sarfaraz\n",
            "Farah\n",
            "Zakir\n",
            "Sadia\n"
          ]
        }
      ]
    },
    {
      "cell_type": "markdown",
      "source": [
        "**Question 2:** Find out how many employees are tracked in the dataset."
      ],
      "metadata": {
        "id": "6Tvjiq8gR-ap"
      }
    },
    {
      "cell_type": "code",
      "source": [
        "print(len(df))"
      ],
      "metadata": {
        "id": "GFsulBwdSDkP",
        "colab": {
          "base_uri": "https://localhost:8080/"
        },
        "outputId": "a698bf9f-8c94-4fbd-a9aa-3a3e8b758f69"
      },
      "execution_count": null,
      "outputs": [
        {
          "output_type": "stream",
          "name": "stdout",
          "text": [
            "100\n"
          ]
        }
      ]
    },
    {
      "cell_type": "markdown",
      "source": [
        "**Question 3:** Take a quick preview of the first 5 employee records to see how the data looks."
      ],
      "metadata": {
        "id": "TN7YLVv0SD7p"
      }
    },
    {
      "cell_type": "code",
      "source": [
        "print(df.head())"
      ],
      "metadata": {
        "id": "0_oa2y4CSI_m",
        "colab": {
          "base_uri": "https://localhost:8080/"
        },
        "outputId": "2c04b5f3-9996-430d-aedf-7381cdd1501c"
      },
      "execution_count": null,
      "outputs": [
        {
          "output_type": "stream",
          "name": "stdout",
          "text": [
            "    id     name  age               role  salary department    status\n",
            "0  101    Seema   30            Manager   59424  Analytics    active\n",
            "1  102    Imran   22  Software Engineer   85111     Design    active\n",
            "2  103     Hina   44    Product Manager   81704         HR    active\n",
            "3  104  Mahnoor   25           Designer   66056    Finance    active\n",
            "4  105   Muneeb   22        QA Engineer   36472     Design  inactive\n"
          ]
        }
      ]
    },
    {
      "cell_type": "markdown",
      "source": [
        "## Part 2: Data Filtering & Conditions"
      ],
      "metadata": {
        "id": "MQ8v0ZfySMW4"
      }
    },
    {
      "cell_type": "markdown",
      "source": [
        "**Question 4:** Identify all the interns."
      ],
      "metadata": {
        "id": "xMDopX0fSgh9"
      }
    },
    {
      "cell_type": "code",
      "source": [
        "print(df[df['role'] == 'Intern'])"
      ],
      "metadata": {
        "id": "4wbxUqQCS45F",
        "colab": {
          "base_uri": "https://localhost:8080/"
        },
        "outputId": "b649349e-5437-469f-c22c-bbaa1a6ec822"
      },
      "execution_count": null,
      "outputs": [
        {
          "output_type": "stream",
          "name": "stdout",
          "text": [
            "     id     name  age    role  salary department    status\n",
            "11  112     Arif   35  Intern   27003       Tech  inactive\n",
            "16  117     Omar   24  Intern   29369       Tech    active\n",
            "22  123    Laiba   22  Intern   29645  Analytics    active\n",
            "28  129     Eman   21  Intern   26645         HR    active\n",
            "35  136  Mahnoor   23  Intern   28431     Design  inactive\n",
            "39  140   Shazia   21  Intern   27682         HR    active\n",
            "47  148      Ali   27  Intern   29982       Tech    active\n",
            "51  152  Shireen   24  Intern   28745  Analytics    active\n",
            "55  156    Mehak   22  Intern   26218     Design    active\n",
            "60  161     Sara   23  Intern   29402       Tech  inactive\n",
            "67  168     Hiba   21  Intern   27109         HR    active\n",
            "73  174   Sameer   23  Intern   26831    Finance    active\n",
            "82  183    Affan   22  Intern   25893  Analytics    active\n",
            "87  188   Shamim   25  Intern   28401         HR    active\n",
            "92  193  Parveen   23  Intern   27511     Design    active\n",
            "97  198    Farah   21  Intern   26391       Tech    active\n"
          ]
        }
      ]
    },
    {
      "cell_type": "markdown",
      "source": [
        "**Question 5:** Find out which employees are making more than 85,000."
      ],
      "metadata": {
        "id": "oQfm6EGDS5Qb"
      }
    },
    {
      "cell_type": "code",
      "source": [
        "print(df[df['salary'] > 85000].sort_values(by = 'salary', ascending = False))"
      ],
      "metadata": {
        "id": "aQKU-VXES65_",
        "colab": {
          "base_uri": "https://localhost:8080/"
        },
        "outputId": "e4c76aa4-822f-4656-e733-3d78d2b1959a"
      },
      "execution_count": null,
      "outputs": [
        {
          "output_type": "stream",
          "name": "stdout",
          "text": [
            "     id     name  age               role  salary department    status\n",
            "40  141   Danish   42    Product Manager   99111    Finance  inactive\n",
            "75  176   Faizan   35    Product Manager   98712       Tech    active\n",
            "20  121     Omar   41    Product Manager   98641       Tech    active\n",
            "31  132    Fahad   44    Product Manager   98231       Tech  inactive\n",
            "68  169  Murtaza   40    Product Manager   97210       Tech    active\n",
            "83  184   Mishal   43    Product Manager   96511       Tech    active\n",
            "10  111   Sumbal   29    Product Manager   96013  Analytics    active\n",
            "26  127    Usman   43       Finance Lead   95320    Finance  inactive\n",
            "58  159    Kinza   31    Product Manager   95128    Finance    active\n",
            "29  130    Rabia   38            Manager   94730       Tech    active\n",
            "90  191  Jaweria   30    Product Manager   94520    Finance    active\n",
            "38  139     Saad   35            Manager   94129     Design    active\n",
            "45  146   Shazia   39            Manager   93824    Finance    active\n",
            "52  153    Haris   41            Manager   93511       Tech    active\n",
            "8   109    Kiran   33  Software Engineer   93399         HR    active\n",
            "84  185    Tariq   31            Manager   93120  Analytics    active\n",
            "69  170    Asiya   36            Manager   92831     Design    active\n",
            "91  192     Saif   40            Manager   92711  Analytics    active\n",
            "61  162  Arsalan   42            Manager   92203    Finance    active\n",
            "77  178  Bilquis   39            Manager   91820    Finance    active\n",
            "12  113   Bushra   36            Manager   91605    Finance    active\n",
            "36  137     Anam   40  Software Engineer   91200       Tech    active\n",
            "19  120    Nadia   28            Manager   90237     Design    active\n",
            "94  195    Haris   36       Finance Lead   89110    Finance    active\n",
            "24  125   Fatima   31  Software Engineer   88934       Tech    active\n",
            "64  165     Fiza   38       Finance Lead   88712    Finance  inactive\n",
            "46  147     Noor   36       Finance Lead   88431    Finance    active\n",
            "81  182     Huma   37       Finance Lead   88218    Finance    active\n",
            "14  115     Sana   39       Finance Lead   87701    Finance    active\n",
            "21  122   Rizwan   37       Finance Lead   87662    Finance    active\n",
            "48  149   Sumbal   34  Software Engineer   87291       Tech    active\n",
            "34  135   Khalid   34       Finance Lead   86811    Finance    active\n",
            "98  199    Zakir   39  Software Engineer   86512       Tech  inactive\n",
            "54  155     Raza   33       Finance Lead   86420    Finance    active\n",
            "72  173     Adil   33       Finance Lead   86219    Finance    active\n",
            "1   102    Imran   22  Software Engineer   85111     Design    active\n"
          ]
        }
      ]
    },
    {
      "cell_type": "markdown",
      "source": [
        "**Question 6:** List the employees who are currently inactive in the company."
      ],
      "metadata": {
        "id": "R4nwcZ1vS7KZ"
      }
    },
    {
      "cell_type": "code",
      "source": [
        "print(df[df['status'] == 'inactive'])"
      ],
      "metadata": {
        "id": "0JeAi-fzS8wn",
        "colab": {
          "base_uri": "https://localhost:8080/"
        },
        "outputId": "bc975fe8-4405-4510-a10d-c5584ea6089f"
      },
      "execution_count": null,
      "outputs": [
        {
          "output_type": "stream",
          "name": "stdout",
          "text": [
            "     id     name  age               role  salary department    status\n",
            "4   105   Muneeb   22        QA Engineer   36472     Design  inactive\n",
            "6   107    Yasir   41           Designer   80476       Tech  inactive\n",
            "11  112     Arif   35             Intern   27003       Tech  inactive\n",
            "13  114     Noor   23           Designer   62118     Design  inactive\n",
            "18  119     Amna   34         HR Officer   49725         HR  inactive\n",
            "23  124    Javed   45       Data Analyst   72593  Analytics  inactive\n",
            "26  127    Usman   43       Finance Lead   95320    Finance  inactive\n",
            "31  132    Fahad   44    Product Manager   98231       Tech  inactive\n",
            "35  136  Mahnoor   23             Intern   28431     Design  inactive\n",
            "40  141   Danish   42    Product Manager   99111    Finance  inactive\n",
            "43  144    Kiran   31        QA Engineer   46583     Design  inactive\n",
            "49  150    Tariq   45       Data Analyst   75284  Analytics  inactive\n",
            "53  154    Sadia   27         HR Officer   52109         HR  inactive\n",
            "60  161     Sara   23             Intern   29402       Tech  inactive\n",
            "64  165     Fiza   38       Finance Lead   88712    Finance  inactive\n",
            "70  171   Imtiaz   27        QA Engineer   48210     Design  inactive\n",
            "79  180  Areesha   26        QA Engineer   47219       Tech  inactive\n",
            "88  189     Zoya   27         HR Officer   52210         HR  inactive\n",
            "98  199    Zakir   39  Software Engineer   86512       Tech  inactive\n"
          ]
        }
      ]
    },
    {
      "cell_type": "markdown",
      "source": [
        "**Question 7:** Investigate the dataset to see which employees are younger than 25 years old."
      ],
      "metadata": {
        "id": "4LgPpwlVS9Rc"
      }
    },
    {
      "cell_type": "code",
      "source": [
        "print(df[df['age'] < 25])"
      ],
      "metadata": {
        "id": "ioxOSpTiS-gp",
        "colab": {
          "base_uri": "https://localhost:8080/"
        },
        "outputId": "fa892968-993c-42be-e496-78125208df7f"
      },
      "execution_count": null,
      "outputs": [
        {
          "output_type": "stream",
          "name": "stdout",
          "text": [
            "     id     name  age               role  salary department    status\n",
            "1   102    Imran   22  Software Engineer   85111     Design    active\n",
            "4   105   Muneeb   22        QA Engineer   36472     Design  inactive\n",
            "7   108    Rehan   23       Data Analyst   42298    Finance    active\n",
            "13  114     Noor   23           Designer   62118     Design  inactive\n",
            "16  117     Omar   24             Intern   29369       Tech    active\n",
            "22  123    Laiba   22             Intern   29645  Analytics    active\n",
            "28  129     Eman   21             Intern   26645         HR    active\n",
            "35  136  Mahnoor   23             Intern   28431     Design  inactive\n",
            "39  140   Shazia   21             Intern   27682         HR    active\n",
            "51  152  Shireen   24             Intern   28745  Analytics    active\n",
            "55  156    Mehak   22             Intern   26218     Design    active\n",
            "60  161     Sara   23             Intern   29402       Tech  inactive\n",
            "67  168     Hiba   21             Intern   27109         HR    active\n",
            "73  174   Sameer   23             Intern   26831    Finance    active\n",
            "78  179   Zunair   24           Designer   59320     Design    active\n",
            "82  183    Affan   22             Intern   25893  Analytics    active\n",
            "92  193  Parveen   23             Intern   27511     Design    active\n",
            "97  198    Farah   21             Intern   26391       Tech    active\n"
          ]
        }
      ]
    },
    {
      "cell_type": "markdown",
      "source": [
        "**Question 8:** From all the departments, filter out the names of employees working in Tech."
      ],
      "metadata": {
        "id": "Qi8fwkUXS-9m"
      }
    },
    {
      "cell_type": "code",
      "source": [
        "print(df[df['department'] == 'Tech']['name'])"
      ],
      "metadata": {
        "id": "41MW2dyuS_m6",
        "colab": {
          "base_uri": "https://localhost:8080/"
        },
        "outputId": "0e5ea0eb-a191-408d-d49a-a95d39c4dd5f"
      },
      "execution_count": null,
      "outputs": [
        {
          "output_type": "stream",
          "name": "stdout",
          "text": [
            "6       Yasir\n",
            "11       Arif\n",
            "16       Omar\n",
            "17    Shahzad\n",
            "20       Omar\n",
            "24     Fatima\n",
            "27     Waleed\n",
            "29      Rabia\n",
            "31      Fahad\n",
            "36       Anam\n",
            "42      Hamza\n",
            "47        Ali\n",
            "48     Sumbal\n",
            "52      Haris\n",
            "57      Sahil\n",
            "60       Sara\n",
            "63    Zeeshan\n",
            "68    Murtaza\n",
            "71    Shabana\n",
            "75     Faizan\n",
            "79    Areesha\n",
            "80     Raheel\n",
            "83     Mishal\n",
            "89      Irfan\n",
            "93    Tanveer\n",
            "97      Farah\n",
            "98      Zakir\n",
            "Name: name, dtype: object\n"
          ]
        }
      ]
    },
    {
      "cell_type": "markdown",
      "source": [
        "## Part 3: Loops & Aggregation"
      ],
      "metadata": {
        "id": "ooZIkG8MTIA5"
      }
    },
    {
      "cell_type": "markdown",
      "source": [
        "**Question 9:** Loop through the dataset and display the managers."
      ],
      "metadata": {
        "id": "okWRxLYnTI_A"
      }
    },
    {
      "cell_type": "code",
      "source": [
        "for i, row in df.iterrows():\n",
        "  if row['role'] == 'Manager':\n",
        "    print(i, row['name'])"
      ],
      "metadata": {
        "id": "-Nopa4_ATTpi",
        "colab": {
          "base_uri": "https://localhost:8080/"
        },
        "outputId": "e4af74c0-333e-4e25-ce16-3223d0f1d0f9"
      },
      "execution_count": null,
      "outputs": [
        {
          "output_type": "stream",
          "name": "stdout",
          "text": [
            "0 Seema\n",
            "12 Bushra\n",
            "19 Nadia\n",
            "29 Rabia\n",
            "38 Saad\n",
            "45 Shazia\n",
            "52 Haris\n",
            "61 Arsalan\n",
            "69 Asiya\n",
            "77 Bilquis\n",
            "84 Tariq\n",
            "91 Saif\n"
          ]
        }
      ]
    },
    {
      "cell_type": "code",
      "source": [
        "print(df[df['role'] == 'Manager']['name'])"
      ],
      "metadata": {
        "colab": {
          "base_uri": "https://localhost:8080/"
        },
        "id": "IvOGlL39Ny5y",
        "outputId": "32869c8a-51c2-475c-a534-e16657c076db"
      },
      "execution_count": null,
      "outputs": [
        {
          "output_type": "stream",
          "name": "stdout",
          "text": [
            "0       Seema\n",
            "12     Bushra\n",
            "19      Nadia\n",
            "29      Rabia\n",
            "38       Saad\n",
            "45     Shazia\n",
            "52      Haris\n",
            "61    Arsalan\n",
            "69      Asiya\n",
            "77    Bilquis\n",
            "84      Tariq\n",
            "91       Saif\n",
            "Name: name, dtype: object\n"
          ]
        }
      ]
    },
    {
      "cell_type": "markdown",
      "source": [
        "**Question 10:** Count how many employees work in each department."
      ],
      "metadata": {
        "id": "p5HucClkTT-g"
      }
    },
    {
      "cell_type": "code",
      "source": [
        "print(df['department'].value_counts())"
      ],
      "metadata": {
        "id": "4VqqaUq_TVm3",
        "colab": {
          "base_uri": "https://localhost:8080/"
        },
        "outputId": "05eb5f3e-8a59-468c-eb9d-94c6367e60a1"
      },
      "execution_count": null,
      "outputs": [
        {
          "output_type": "stream",
          "name": "stdout",
          "text": [
            "department\n",
            "Tech         27\n",
            "Finance      22\n",
            "Design       19\n",
            "Analytics    18\n",
            "HR           14\n",
            "Name: count, dtype: int64\n"
          ]
        }
      ]
    },
    {
      "cell_type": "markdown",
      "source": [
        "**Question 11:** Calculate the average salary of all employees in the company."
      ],
      "metadata": {
        "id": "Sqv1a_OJTV0v"
      }
    },
    {
      "cell_type": "code",
      "source": [
        "print(df['salary'].mean())"
      ],
      "metadata": {
        "id": "fhw4AXY2TXSj",
        "colab": {
          "base_uri": "https://localhost:8080/"
        },
        "outputId": "befa8f11-a695-424f-e461-1e82c7eb6f8f"
      },
      "execution_count": null,
      "outputs": [
        {
          "output_type": "stream",
          "name": "stdout",
          "text": [
            "67559.47\n"
          ]
        }
      ]
    },
    {
      "cell_type": "markdown",
      "source": [
        "**Question 12:** Detect the oldest employee in the company and display their details."
      ],
      "metadata": {
        "id": "ymMnIXxCTXjn"
      }
    },
    {
      "cell_type": "code",
      "source": [
        "print(df.loc[df['age'].idxmax()])"
      ],
      "metadata": {
        "id": "nk-B3MlDTYBV",
        "colab": {
          "base_uri": "https://localhost:8080/"
        },
        "outputId": "3c643049-d91a-4585-b6a6-5d38d226a2fe"
      },
      "execution_count": null,
      "outputs": [
        {
          "output_type": "stream",
          "name": "stdout",
          "text": [
            "id                     124\n",
            "name                 Javed\n",
            "age                     45\n",
            "role          Data Analyst\n",
            "salary               72593\n",
            "department       Analytics\n",
            "status            inactive\n",
            "Name: 23, dtype: object\n"
          ]
        }
      ]
    },
    {
      "cell_type": "markdown",
      "source": [
        "## Part 4: Functions"
      ],
      "metadata": {
        "id": "y1aivyxGTYUP"
      }
    },
    {
      "cell_type": "markdown",
      "source": [
        "**Question 13:** Write a function `avg_salary(dept)` that returns the average salary for a given department."
      ],
      "metadata": {
        "id": "vO1wr93eTcK9"
      }
    },
    {
      "cell_type": "code",
      "source": [
        "def avg_salary(dept):\n",
        "  subset = df[df['department'] == dept]\n",
        "  return subset['salary'].mean() if len(subset) > 0 else 0\n",
        "print(avg_salary(\"HR\"))"
      ],
      "metadata": {
        "id": "ijctPfdZTlYm",
        "colab": {
          "base_uri": "https://localhost:8080/"
        },
        "outputId": "8a540545-58bb-4959-a353-7338d9a7ad91"
      },
      "execution_count": null,
      "outputs": [
        {
          "output_type": "stream",
          "name": "stdout",
          "text": [
            "50330.92857142857\n"
          ]
        }
      ]
    },
    {
      "cell_type": "markdown",
      "source": [
        "**Question 14:** Write a function `list_by_role(role)` that returns a list of employees for a given role."
      ],
      "metadata": {
        "id": "AYIhSojXTl5R"
      }
    },
    {
      "cell_type": "code",
      "source": [
        "def list_by_role(role):\n",
        "  return df[df['role'] == role]['name'].tolist()\n",
        "print(list_by_role(\"Software Engineer\"))"
      ],
      "metadata": {
        "id": "MqotpzrXToNc",
        "colab": {
          "base_uri": "https://localhost:8080/"
        },
        "outputId": "85347aac-4993-47bf-9947-b16c0a886c2e"
      },
      "execution_count": null,
      "outputs": [
        {
          "output_type": "stream",
          "name": "stdout",
          "text": [
            "['Imran', 'Kiran', 'Fatima', 'Waleed', 'Anam', 'Hamza', 'Sumbal', 'Sahil', 'Zeeshan', 'Shabana', 'Raheel', 'Irfan', 'Zakir']\n"
          ]
        }
      ]
    },
    {
      "cell_type": "markdown",
      "source": [
        "**Question 15:** Write a function `find_anomalies()` that identifies interns earning more than 30,000 (possible anomalies)."
      ],
      "metadata": {
        "id": "K1mg5KlaTo4F"
      }
    },
    {
      "cell_type": "code",
      "source": [
        "def find_anomalies():\n",
        "  return df[(df['role'] == 'Intern') & (df['salary'] > 30000)]\n",
        "print(find_anomalies())"
      ],
      "metadata": {
        "id": "pFkSAlKUTp8E",
        "colab": {
          "base_uri": "https://localhost:8080/"
        },
        "outputId": "57039af1-702c-434e-c41c-99fdfa96175a"
      },
      "execution_count": null,
      "outputs": [
        {
          "output_type": "stream",
          "name": "stdout",
          "text": [
            "Empty DataFrame\n",
            "Columns: [id, name, age, role, salary, department, status]\n",
            "Index: []\n"
          ]
        }
      ]
    }
  ]
}